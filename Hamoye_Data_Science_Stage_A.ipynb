{
  "nbformat": 4,
  "nbformat_minor": 0,
  "metadata": {
    "colab": {
      "name": "Hamoye Data Science Stage A",
      "provenance": [],
      "mount_file_id": "1gH8hHDhhWTJqaRSvZBqqVLW_CmDntmqI",
      "authorship_tag": "ABX9TyPnfmRCBQa6xtw/cORrrAgv",
      "include_colab_link": true
    },
    "kernelspec": {
      "name": "python3",
      "display_name": "Python 3"
    },
    "accelerator": "TPU"
  },
  "cells": [
    {
      "cell_type": "markdown",
      "metadata": {
        "id": "view-in-github",
        "colab_type": "text"
      },
      "source": [
        "<a href=\"https://colab.research.google.com/github/Ojomiloju/Hamoye.io-Data-Science-Internship/blob/master/Hamoye_Data_Science_Stage_A.ipynb\" target=\"_parent\"><img src=\"https://colab.research.google.com/assets/colab-badge.svg\" alt=\"Open In Colab\"/></a>"
      ]
    },
    {
      "cell_type": "code",
      "metadata": {
        "id": "CPXAMa4QTcy-",
        "colab_type": "code",
        "colab": {
          "base_uri": "https://localhost:8080/",
          "height": 71
        },
        "outputId": "a93cd546-50bd-4b8b-91a7-02a20f59065b"
      },
      "source": [
        "import pandas as pd\n",
        "import numpy as np\n",
        "import matplotlib.pyplot as plt\n",
        "import seaborn as sns"
      ],
      "execution_count": 1,
      "outputs": [
        {
          "output_type": "stream",
          "text": [
            "/usr/local/lib/python3.6/dist-packages/statsmodels/tools/_testing.py:19: FutureWarning: pandas.util.testing is deprecated. Use the functions in the public API at pandas.testing instead.\n",
            "  import pandas.util.testing as tm\n"
          ],
          "name": "stderr"
        }
      ]
    },
    {
      "cell_type": "markdown",
      "metadata": {
        "id": "xQCqvOjtT7Gt",
        "colab_type": "text"
      },
      "source": [
        "Question 1\n"
      ]
    },
    {
      "cell_type": "code",
      "metadata": {
        "id": "Htb7aODsTwKi",
        "colab_type": "code",
        "colab": {
          "base_uri": "https://localhost:8080/",
          "height": 34
        },
        "outputId": "78d5be0b-98db-4bae-ee62-bcf9b4e20ff4"
      },
      "source": [
        "A = [1,2,3,4,5,6]\n",
        "B = [13, 21, 34]\n",
        "A.extend(B)\n",
        "A_B = A\n",
        "print(A_B)"
      ],
      "execution_count": 11,
      "outputs": [
        {
          "output_type": "stream",
          "text": [
            "[1, 2, 3, 4, 5, 6, 13, 21, 34]\n"
          ],
          "name": "stdout"
        }
      ]
    },
    {
      "cell_type": "markdown",
      "metadata": {
        "id": "WCLg9pu7UzHg",
        "colab_type": "text"
      },
      "source": [
        "Question 2"
      ]
    },
    {
      "cell_type": "code",
      "metadata": {
        "id": "61DeGvNPUM8O",
        "colab_type": "code",
        "colab": {
          "base_uri": "https://localhost:8080/",
          "height": 68
        },
        "outputId": "f9dabfbb-9d37-48b7-9267-4fce94357a53"
      },
      "source": [
        "np.identity(3)"
      ],
      "execution_count": 12,
      "outputs": [
        {
          "output_type": "execute_result",
          "data": {
            "text/plain": [
              "array([[1., 0., 0.],\n",
              "       [0., 1., 0.],\n",
              "       [0., 0., 1.]])"
            ]
          },
          "metadata": {
            "tags": []
          },
          "execution_count": 12
        }
      ]
    },
    {
      "cell_type": "markdown",
      "metadata": {
        "id": "sbdrXSORXBNQ",
        "colab_type": "text"
      },
      "source": [
        "Question 3\n"
      ]
    },
    {
      "cell_type": "code",
      "metadata": {
        "id": "yrvum8ukWOqw",
        "colab_type": "code",
        "colab": {
          "base_uri": "https://localhost:8080/",
          "height": 122
        },
        "outputId": "ec258cf2-8ac4-49d1-d5d7-61517ba2cc42"
      },
      "source": [
        "from google.colab import drive\n",
        "drive.mount('/content/gdrive')"
      ],
      "execution_count": 19,
      "outputs": [
        {
          "output_type": "stream",
          "text": [
            "Go to this URL in a browser: https://accounts.google.com/o/oauth2/auth?client_id=947318989803-6bn6qk8qdgf4n4g3pfee6491hc0brc4i.apps.googleusercontent.com&redirect_uri=urn%3aietf%3awg%3aoauth%3a2.0%3aoob&response_type=code&scope=email%20https%3a%2f%2fwww.googleapis.com%2fauth%2fdocs.test%20https%3a%2f%2fwww.googleapis.com%2fauth%2fdrive%20https%3a%2f%2fwww.googleapis.com%2fauth%2fdrive.photos.readonly%20https%3a%2f%2fwww.googleapis.com%2fauth%2fpeopleapi.readonly\n",
            "\n",
            "Enter your authorization code:\n",
            "··········\n",
            "Mounted at /content/gdrive\n"
          ],
          "name": "stdout"
        }
      ]
    },
    {
      "cell_type": "code",
      "metadata": {
        "id": "hyg66_NJYmvC",
        "colab_type": "code",
        "colab": {}
      },
      "source": [
        "data = pd.read_csv('/content/gdrive/My Drive/fuel_ferc1.csv')"
      ],
      "execution_count": 20,
      "outputs": []
    },
    {
      "cell_type": "code",
      "metadata": {
        "id": "CoZjsy1FYxDJ",
        "colab_type": "code",
        "colab": {
          "base_uri": "https://localhost:8080/",
          "height": 224
        },
        "outputId": "a7d88656-2f6b-4cc3-ef8d-b9d749d98e28"
      },
      "source": [
        "data.head()"
      ],
      "execution_count": 21,
      "outputs": [
        {
          "output_type": "execute_result",
          "data": {
            "text/html": [
              "<div>\n",
              "<style scoped>\n",
              "    .dataframe tbody tr th:only-of-type {\n",
              "        vertical-align: middle;\n",
              "    }\n",
              "\n",
              "    .dataframe tbody tr th {\n",
              "        vertical-align: top;\n",
              "    }\n",
              "\n",
              "    .dataframe thead th {\n",
              "        text-align: right;\n",
              "    }\n",
              "</style>\n",
              "<table border=\"1\" class=\"dataframe\">\n",
              "  <thead>\n",
              "    <tr style=\"text-align: right;\">\n",
              "      <th></th>\n",
              "      <th>record_id</th>\n",
              "      <th>utility_id_ferc1</th>\n",
              "      <th>report_year</th>\n",
              "      <th>plant_name_ferc1</th>\n",
              "      <th>fuel_type_code_pudl</th>\n",
              "      <th>fuel_unit</th>\n",
              "      <th>fuel_qty_burned</th>\n",
              "      <th>fuel_mmbtu_per_unit</th>\n",
              "      <th>fuel_cost_per_unit_burned</th>\n",
              "      <th>fuel_cost_per_unit_delivered</th>\n",
              "      <th>fuel_cost_per_mmbtu</th>\n",
              "    </tr>\n",
              "  </thead>\n",
              "  <tbody>\n",
              "    <tr>\n",
              "      <th>0</th>\n",
              "      <td>f1_fuel_1994_12_1_0_7</td>\n",
              "      <td>1</td>\n",
              "      <td>1994</td>\n",
              "      <td>rockport</td>\n",
              "      <td>coal</td>\n",
              "      <td>ton</td>\n",
              "      <td>5377489.0</td>\n",
              "      <td>16.590</td>\n",
              "      <td>18.59</td>\n",
              "      <td>18.53</td>\n",
              "      <td>1.121</td>\n",
              "    </tr>\n",
              "    <tr>\n",
              "      <th>1</th>\n",
              "      <td>f1_fuel_1994_12_1_0_10</td>\n",
              "      <td>1</td>\n",
              "      <td>1994</td>\n",
              "      <td>rockport total plant</td>\n",
              "      <td>coal</td>\n",
              "      <td>ton</td>\n",
              "      <td>10486945.0</td>\n",
              "      <td>16.592</td>\n",
              "      <td>18.58</td>\n",
              "      <td>18.53</td>\n",
              "      <td>1.120</td>\n",
              "    </tr>\n",
              "    <tr>\n",
              "      <th>2</th>\n",
              "      <td>f1_fuel_1994_12_2_0_1</td>\n",
              "      <td>2</td>\n",
              "      <td>1994</td>\n",
              "      <td>gorgas</td>\n",
              "      <td>coal</td>\n",
              "      <td>ton</td>\n",
              "      <td>2978683.0</td>\n",
              "      <td>24.130</td>\n",
              "      <td>39.72</td>\n",
              "      <td>38.12</td>\n",
              "      <td>1.650</td>\n",
              "    </tr>\n",
              "    <tr>\n",
              "      <th>3</th>\n",
              "      <td>f1_fuel_1994_12_2_0_7</td>\n",
              "      <td>2</td>\n",
              "      <td>1994</td>\n",
              "      <td>barry</td>\n",
              "      <td>coal</td>\n",
              "      <td>ton</td>\n",
              "      <td>3739484.0</td>\n",
              "      <td>23.950</td>\n",
              "      <td>47.21</td>\n",
              "      <td>45.99</td>\n",
              "      <td>1.970</td>\n",
              "    </tr>\n",
              "    <tr>\n",
              "      <th>4</th>\n",
              "      <td>f1_fuel_1994_12_2_0_10</td>\n",
              "      <td>2</td>\n",
              "      <td>1994</td>\n",
              "      <td>chickasaw</td>\n",
              "      <td>gas</td>\n",
              "      <td>mcf</td>\n",
              "      <td>40533.0</td>\n",
              "      <td>1.000</td>\n",
              "      <td>2.77</td>\n",
              "      <td>2.77</td>\n",
              "      <td>2.570</td>\n",
              "    </tr>\n",
              "  </tbody>\n",
              "</table>\n",
              "</div>"
            ],
            "text/plain": [
              "                record_id  ...  fuel_cost_per_mmbtu\n",
              "0   f1_fuel_1994_12_1_0_7  ...                1.121\n",
              "1  f1_fuel_1994_12_1_0_10  ...                1.120\n",
              "2   f1_fuel_1994_12_2_0_1  ...                1.650\n",
              "3   f1_fuel_1994_12_2_0_7  ...                1.970\n",
              "4  f1_fuel_1994_12_2_0_10  ...                2.570\n",
              "\n",
              "[5 rows x 11 columns]"
            ]
          },
          "metadata": {
            "tags": []
          },
          "execution_count": 21
        }
      ]
    },
    {
      "cell_type": "code",
      "metadata": {
        "id": "xn8TA-0uiLHo",
        "colab_type": "code",
        "colab": {
          "base_uri": "https://localhost:8080/",
          "height": 235
        },
        "outputId": "c95d2e9d-3256-48dc-aee5-9bc5b9b2a0e1"
      },
      "source": [
        "data.groupby('fuel_type_code_pudl', as_index=False)['fuel_cost_per_unit_burned'].mean()"
      ],
      "execution_count": 45,
      "outputs": [
        {
          "output_type": "execute_result",
          "data": {
            "text/html": [
              "<div>\n",
              "<style scoped>\n",
              "    .dataframe tbody tr th:only-of-type {\n",
              "        vertical-align: middle;\n",
              "    }\n",
              "\n",
              "    .dataframe tbody tr th {\n",
              "        vertical-align: top;\n",
              "    }\n",
              "\n",
              "    .dataframe thead th {\n",
              "        text-align: right;\n",
              "    }\n",
              "</style>\n",
              "<table border=\"1\" class=\"dataframe\">\n",
              "  <thead>\n",
              "    <tr style=\"text-align: right;\">\n",
              "      <th></th>\n",
              "      <th>fuel_type_code_pudl</th>\n",
              "      <th>fuel_cost_per_unit_burned</th>\n",
              "    </tr>\n",
              "  </thead>\n",
              "  <tbody>\n",
              "    <tr>\n",
              "      <th>0</th>\n",
              "      <td>coal</td>\n",
              "      <td>67.421830</td>\n",
              "    </tr>\n",
              "    <tr>\n",
              "      <th>1</th>\n",
              "      <td>gas</td>\n",
              "      <td>13.659397</td>\n",
              "    </tr>\n",
              "    <tr>\n",
              "      <th>2</th>\n",
              "      <td>nuclear</td>\n",
              "      <td>4955.157002</td>\n",
              "    </tr>\n",
              "    <tr>\n",
              "      <th>3</th>\n",
              "      <td>oil</td>\n",
              "      <td>168.877086</td>\n",
              "    </tr>\n",
              "    <tr>\n",
              "      <th>4</th>\n",
              "      <td>other</td>\n",
              "      <td>18.253856</td>\n",
              "    </tr>\n",
              "    <tr>\n",
              "      <th>5</th>\n",
              "      <td>waste</td>\n",
              "      <td>19.518122</td>\n",
              "    </tr>\n",
              "  </tbody>\n",
              "</table>\n",
              "</div>"
            ],
            "text/plain": [
              "  fuel_type_code_pudl  fuel_cost_per_unit_burned\n",
              "0                coal                  67.421830\n",
              "1                 gas                  13.659397\n",
              "2             nuclear                4955.157002\n",
              "3                 oil                 168.877086\n",
              "4               other                  18.253856\n",
              "5               waste                  19.518122"
            ]
          },
          "metadata": {
            "tags": []
          },
          "execution_count": 45
        }
      ]
    },
    {
      "cell_type": "markdown",
      "metadata": {
        "id": "ncT3JzQ2lF0X",
        "colab_type": "text"
      },
      "source": [
        "Question 4"
      ]
    },
    {
      "cell_type": "code",
      "metadata": {
        "id": "xR4pWPcijsnl",
        "colab_type": "code",
        "colab": {
          "base_uri": "https://localhost:8080/",
          "height": 170
        },
        "outputId": "af52f38c-8422-4d8c-97c0-37df8a93f3f3"
      },
      "source": [
        "data['fuel_mmbtu_per_unit'].describe()"
      ],
      "execution_count": 46,
      "outputs": [
        {
          "output_type": "execute_result",
          "data": {
            "text/plain": [
              "count    29523.000000\n",
              "mean         8.492111\n",
              "std         10.600220\n",
              "min          0.000001\n",
              "25%          1.024000\n",
              "50%          5.762694\n",
              "75%         17.006000\n",
              "max        341.260000\n",
              "Name: fuel_mmbtu_per_unit, dtype: float64"
            ]
          },
          "metadata": {
            "tags": []
          },
          "execution_count": 46
        }
      ]
    },
    {
      "cell_type": "markdown",
      "metadata": {
        "id": "PIMFAsDUmqY1",
        "colab_type": "text"
      },
      "source": [
        "Question 5"
      ]
    },
    {
      "cell_type": "code",
      "metadata": {
        "id": "3TTwK9xhk9Gp",
        "colab_type": "code",
        "colab": {
          "base_uri": "https://localhost:8080/",
          "height": 51
        },
        "outputId": "bfe42984-4c29-434a-8353-56ed073470c3"
      },
      "source": [
        "print(data[\"fuel_qty_burned\"].kurtosis())\n",
        "print(data['fuel_qty_burned'].skew())"
      ],
      "execution_count": 50,
      "outputs": [
        {
          "output_type": "stream",
          "text": [
            "651.3694501337732\n",
            "15.851495469109503\n"
          ],
          "name": "stdout"
        }
      ]
    },
    {
      "cell_type": "markdown",
      "metadata": {
        "id": "510jQc88rU0a",
        "colab_type": "text"
      },
      "source": [
        "Question 6"
      ]
    },
    {
      "cell_type": "code",
      "metadata": {
        "id": "LgM0ManzqPNV",
        "colab_type": "code",
        "colab": {
          "base_uri": "https://localhost:8080/",
          "height": 221
        },
        "outputId": "09111e70-6dd1-4030-c8ab-7f55b397da6e"
      },
      "source": [
        "data.isnull().sum()"
      ],
      "execution_count": 53,
      "outputs": [
        {
          "output_type": "execute_result",
          "data": {
            "text/plain": [
              "record_id                         0\n",
              "utility_id_ferc1                  0\n",
              "report_year                       0\n",
              "plant_name_ferc1                  0\n",
              "fuel_type_code_pudl               0\n",
              "fuel_unit                       180\n",
              "fuel_qty_burned                   0\n",
              "fuel_mmbtu_per_unit               0\n",
              "fuel_cost_per_unit_burned         0\n",
              "fuel_cost_per_unit_delivered      0\n",
              "fuel_cost_per_mmbtu               0\n",
              "dtype: int64"
            ]
          },
          "metadata": {
            "tags": []
          },
          "execution_count": 53
        }
      ]
    },
    {
      "cell_type": "code",
      "metadata": {
        "id": "hN98Jf0lsKJr",
        "colab_type": "code",
        "colab": {
          "base_uri": "https://localhost:8080/",
          "height": 34
        },
        "outputId": "f631fa60-a626-44f6-d2a5-d1339166fa30"
      },
      "source": [
        "data['fuel_unit'].isnull().sum() * 100 / len(data['fuel_unit'])"
      ],
      "execution_count": 54,
      "outputs": [
        {
          "output_type": "execute_result",
          "data": {
            "text/plain": [
              "0.6096941367747181"
            ]
          },
          "metadata": {
            "tags": []
          },
          "execution_count": 54
        }
      ]
    },
    {
      "cell_type": "code",
      "metadata": {
        "id": "SsB-oDxIsnNQ",
        "colab_type": "code",
        "colab": {
          "base_uri": "https://localhost:8080/",
          "height": 34
        },
        "outputId": "24a351c8-ab38-44ee-ab9b-16484e9cad8b"
      },
      "source": [
        "data.shape"
      ],
      "execution_count": 56,
      "outputs": [
        {
          "output_type": "execute_result",
          "data": {
            "text/plain": [
              "(29523, 11)"
            ]
          },
          "metadata": {
            "tags": []
          },
          "execution_count": 56
        }
      ]
    },
    {
      "cell_type": "markdown",
      "metadata": {
        "id": "e7MszkAttk6B",
        "colab_type": "text"
      },
      "source": [
        "Question 7"
      ]
    },
    {
      "cell_type": "code",
      "metadata": {
        "id": "oXGhaqhcsuxG",
        "colab_type": "code",
        "colab": {
          "base_uri": "https://localhost:8080/",
          "height": 102
        },
        "outputId": "c338428d-96e7-4beb-8fdc-310b7e2828f8"
      },
      "source": [
        "data['fuel_unit'].describe() "
      ],
      "execution_count": 57,
      "outputs": [
        {
          "output_type": "execute_result",
          "data": {
            "text/plain": [
              "count     29343\n",
              "unique        9\n",
              "top         mcf\n",
              "freq      11354\n",
              "Name: fuel_unit, dtype: object"
            ]
          },
          "metadata": {
            "tags": []
          },
          "execution_count": 57
        }
      ]
    },
    {
      "cell_type": "markdown",
      "metadata": {
        "id": "sSdFoMWyufcq",
        "colab_type": "text"
      },
      "source": [
        "We can see that the column is a categorical column. The best way to deal with it is to use the \"Mode Imputation\". The mode is \"mcf\"\n"
      ]
    },
    {
      "cell_type": "code",
      "metadata": {
        "id": "6PMq9W8zuaUQ",
        "colab_type": "code",
        "colab": {}
      },
      "source": [
        "data[\"fuel_unit\"].fillna('mcf', inplace = True)"
      ],
      "execution_count": 59,
      "outputs": []
    },
    {
      "cell_type": "code",
      "metadata": {
        "id": "P0KSemrxvOdy",
        "colab_type": "code",
        "colab": {
          "base_uri": "https://localhost:8080/",
          "height": 221
        },
        "outputId": "6ca10485-554c-4730-fdd2-d7f6302e33e4"
      },
      "source": [
        "data.isnull().sum()"
      ],
      "execution_count": 61,
      "outputs": [
        {
          "output_type": "execute_result",
          "data": {
            "text/plain": [
              "record_id                       0\n",
              "utility_id_ferc1                0\n",
              "report_year                     0\n",
              "plant_name_ferc1                0\n",
              "fuel_type_code_pudl             0\n",
              "fuel_unit                       0\n",
              "fuel_qty_burned                 0\n",
              "fuel_mmbtu_per_unit             0\n",
              "fuel_cost_per_unit_burned       0\n",
              "fuel_cost_per_unit_delivered    0\n",
              "fuel_cost_per_mmbtu             0\n",
              "dtype: int64"
            ]
          },
          "metadata": {
            "tags": []
          },
          "execution_count": 61
        }
      ]
    },
    {
      "cell_type": "markdown",
      "metadata": {
        "id": "iHE3xeFzvsEU",
        "colab_type": "text"
      },
      "source": [
        "Question 8"
      ]
    },
    {
      "cell_type": "code",
      "metadata": {
        "id": "5HoDTABnvTGs",
        "colab_type": "code",
        "colab": {
          "base_uri": "https://localhost:8080/",
          "height": 187
        },
        "outputId": "a2debd8a-b6b2-4aab-ecd8-a066e32bcbfb"
      },
      "source": [
        "corr = data.corr()\n",
        "corr.style.background_gradient(cmap='coolwarm').set_precision(2)"
      ],
      "execution_count": 65,
      "outputs": [
        {
          "output_type": "execute_result",
          "data": {
            "text/html": [
              "<style  type=\"text/css\" >\n",
              "    #T_4f298370_cb5e_11ea_81f1_0242ac1c0002row0_col0 {\n",
              "            background-color:  #b40426;\n",
              "            color:  #f1f1f1;\n",
              "        }    #T_4f298370_cb5e_11ea_81f1_0242ac1c0002row0_col1 {\n",
              "            background-color:  #7699f6;\n",
              "            color:  #000000;\n",
              "        }    #T_4f298370_cb5e_11ea_81f1_0242ac1c0002row0_col2 {\n",
              "            background-color:  #4055c8;\n",
              "            color:  #f1f1f1;\n",
              "        }    #T_4f298370_cb5e_11ea_81f1_0242ac1c0002row0_col3 {\n",
              "            background-color:  #465ecf;\n",
              "            color:  #f1f1f1;\n",
              "        }    #T_4f298370_cb5e_11ea_81f1_0242ac1c0002row0_col4 {\n",
              "            background-color:  #3b4cc0;\n",
              "            color:  #f1f1f1;\n",
              "        }    #T_4f298370_cb5e_11ea_81f1_0242ac1c0002row0_col5 {\n",
              "            background-color:  #3b4cc0;\n",
              "            color:  #f1f1f1;\n",
              "        }    #T_4f298370_cb5e_11ea_81f1_0242ac1c0002row0_col6 {\n",
              "            background-color:  #3e51c5;\n",
              "            color:  #f1f1f1;\n",
              "        }    #T_4f298370_cb5e_11ea_81f1_0242ac1c0002row1_col0 {\n",
              "            background-color:  #6a8bef;\n",
              "            color:  #000000;\n",
              "        }    #T_4f298370_cb5e_11ea_81f1_0242ac1c0002row1_col1 {\n",
              "            background-color:  #b40426;\n",
              "            color:  #f1f1f1;\n",
              "        }    #T_4f298370_cb5e_11ea_81f1_0242ac1c0002row1_col2 {\n",
              "            background-color:  #5572df;\n",
              "            color:  #000000;\n",
              "        }    #T_4f298370_cb5e_11ea_81f1_0242ac1c0002row1_col3 {\n",
              "            background-color:  #3b4cc0;\n",
              "            color:  #f1f1f1;\n",
              "        }    #T_4f298370_cb5e_11ea_81f1_0242ac1c0002row1_col4 {\n",
              "            background-color:  #4961d2;\n",
              "            color:  #f1f1f1;\n",
              "        }    #T_4f298370_cb5e_11ea_81f1_0242ac1c0002row1_col5 {\n",
              "            background-color:  #3b4cc0;\n",
              "            color:  #f1f1f1;\n",
              "        }    #T_4f298370_cb5e_11ea_81f1_0242ac1c0002row1_col6 {\n",
              "            background-color:  #3f53c6;\n",
              "            color:  #f1f1f1;\n",
              "        }    #T_4f298370_cb5e_11ea_81f1_0242ac1c0002row2_col0 {\n",
              "            background-color:  #3d50c3;\n",
              "            color:  #f1f1f1;\n",
              "        }    #T_4f298370_cb5e_11ea_81f1_0242ac1c0002row2_col1 {\n",
              "            background-color:  #5d7ce6;\n",
              "            color:  #000000;\n",
              "        }    #T_4f298370_cb5e_11ea_81f1_0242ac1c0002row2_col2 {\n",
              "            background-color:  #b40426;\n",
              "            color:  #f1f1f1;\n",
              "        }    #T_4f298370_cb5e_11ea_81f1_0242ac1c0002row2_col3 {\n",
              "            background-color:  #4257c9;\n",
              "            color:  #f1f1f1;\n",
              "        }    #T_4f298370_cb5e_11ea_81f1_0242ac1c0002row2_col4 {\n",
              "            background-color:  #3f53c6;\n",
              "            color:  #f1f1f1;\n",
              "        }    #T_4f298370_cb5e_11ea_81f1_0242ac1c0002row2_col5 {\n",
              "            background-color:  #3e51c5;\n",
              "            color:  #f1f1f1;\n",
              "        }    #T_4f298370_cb5e_11ea_81f1_0242ac1c0002row2_col6 {\n",
              "            background-color:  #3c4ec2;\n",
              "            color:  #f1f1f1;\n",
              "        }    #T_4f298370_cb5e_11ea_81f1_0242ac1c0002row3_col0 {\n",
              "            background-color:  #3b4cc0;\n",
              "            color:  #f1f1f1;\n",
              "        }    #T_4f298370_cb5e_11ea_81f1_0242ac1c0002row3_col1 {\n",
              "            background-color:  #3b4cc0;\n",
              "            color:  #f1f1f1;\n",
              "        }    #T_4f298370_cb5e_11ea_81f1_0242ac1c0002row3_col2 {\n",
              "            background-color:  #3b4cc0;\n",
              "            color:  #f1f1f1;\n",
              "        }    #T_4f298370_cb5e_11ea_81f1_0242ac1c0002row3_col3 {\n",
              "            background-color:  #b40426;\n",
              "            color:  #f1f1f1;\n",
              "        }    #T_4f298370_cb5e_11ea_81f1_0242ac1c0002row3_col4 {\n",
              "            background-color:  #4257c9;\n",
              "            color:  #f1f1f1;\n",
              "        }    #T_4f298370_cb5e_11ea_81f1_0242ac1c0002row3_col5 {\n",
              "            background-color:  #3c4ec2;\n",
              "            color:  #f1f1f1;\n",
              "        }    #T_4f298370_cb5e_11ea_81f1_0242ac1c0002row3_col6 {\n",
              "            background-color:  #3b4cc0;\n",
              "            color:  #f1f1f1;\n",
              "        }    #T_4f298370_cb5e_11ea_81f1_0242ac1c0002row4_col0 {\n",
              "            background-color:  #4257c9;\n",
              "            color:  #f1f1f1;\n",
              "        }    #T_4f298370_cb5e_11ea_81f1_0242ac1c0002row4_col1 {\n",
              "            background-color:  #5d7ce6;\n",
              "            color:  #000000;\n",
              "        }    #T_4f298370_cb5e_11ea_81f1_0242ac1c0002row4_col2 {\n",
              "            background-color:  #4b64d5;\n",
              "            color:  #f1f1f1;\n",
              "        }    #T_4f298370_cb5e_11ea_81f1_0242ac1c0002row4_col3 {\n",
              "            background-color:  #5673e0;\n",
              "            color:  #000000;\n",
              "        }    #T_4f298370_cb5e_11ea_81f1_0242ac1c0002row4_col4 {\n",
              "            background-color:  #b40426;\n",
              "            color:  #f1f1f1;\n",
              "        }    #T_4f298370_cb5e_11ea_81f1_0242ac1c0002row4_col5 {\n",
              "            background-color:  #4257c9;\n",
              "            color:  #f1f1f1;\n",
              "        }    #T_4f298370_cb5e_11ea_81f1_0242ac1c0002row4_col6 {\n",
              "            background-color:  #3c4ec2;\n",
              "            color:  #f1f1f1;\n",
              "        }    #T_4f298370_cb5e_11ea_81f1_0242ac1c0002row5_col0 {\n",
              "            background-color:  #4961d2;\n",
              "            color:  #f1f1f1;\n",
              "        }    #T_4f298370_cb5e_11ea_81f1_0242ac1c0002row5_col1 {\n",
              "            background-color:  #5572df;\n",
              "            color:  #000000;\n",
              "        }    #T_4f298370_cb5e_11ea_81f1_0242ac1c0002row5_col2 {\n",
              "            background-color:  #506bda;\n",
              "            color:  #000000;\n",
              "        }    #T_4f298370_cb5e_11ea_81f1_0242ac1c0002row5_col3 {\n",
              "            background-color:  #5673e0;\n",
              "            color:  #000000;\n",
              "        }    #T_4f298370_cb5e_11ea_81f1_0242ac1c0002row5_col4 {\n",
              "            background-color:  #4961d2;\n",
              "            color:  #f1f1f1;\n",
              "        }    #T_4f298370_cb5e_11ea_81f1_0242ac1c0002row5_col5 {\n",
              "            background-color:  #b40426;\n",
              "            color:  #f1f1f1;\n",
              "        }    #T_4f298370_cb5e_11ea_81f1_0242ac1c0002row5_col6 {\n",
              "            background-color:  #3c4ec2;\n",
              "            color:  #f1f1f1;\n",
              "        }    #T_4f298370_cb5e_11ea_81f1_0242ac1c0002row6_col0 {\n",
              "            background-color:  #4f69d9;\n",
              "            color:  #000000;\n",
              "        }    #T_4f298370_cb5e_11ea_81f1_0242ac1c0002row6_col1 {\n",
              "            background-color:  #5b7ae5;\n",
              "            color:  #000000;\n",
              "        }    #T_4f298370_cb5e_11ea_81f1_0242ac1c0002row6_col2 {\n",
              "            background-color:  #506bda;\n",
              "            color:  #000000;\n",
              "        }    #T_4f298370_cb5e_11ea_81f1_0242ac1c0002row6_col3 {\n",
              "            background-color:  #5875e1;\n",
              "            color:  #000000;\n",
              "        }    #T_4f298370_cb5e_11ea_81f1_0242ac1c0002row6_col4 {\n",
              "            background-color:  #455cce;\n",
              "            color:  #f1f1f1;\n",
              "        }    #T_4f298370_cb5e_11ea_81f1_0242ac1c0002row6_col5 {\n",
              "            background-color:  #3f53c6;\n",
              "            color:  #f1f1f1;\n",
              "        }    #T_4f298370_cb5e_11ea_81f1_0242ac1c0002row6_col6 {\n",
              "            background-color:  #b40426;\n",
              "            color:  #f1f1f1;\n",
              "        }</style><table id=\"T_4f298370_cb5e_11ea_81f1_0242ac1c0002\" ><thead>    <tr>        <th class=\"blank level0\" ></th>        <th class=\"col_heading level0 col0\" >utility_id_ferc1</th>        <th class=\"col_heading level0 col1\" >report_year</th>        <th class=\"col_heading level0 col2\" >fuel_qty_burned</th>        <th class=\"col_heading level0 col3\" >fuel_mmbtu_per_unit</th>        <th class=\"col_heading level0 col4\" >fuel_cost_per_unit_burned</th>        <th class=\"col_heading level0 col5\" >fuel_cost_per_unit_delivered</th>        <th class=\"col_heading level0 col6\" >fuel_cost_per_mmbtu</th>    </tr></thead><tbody>\n",
              "                <tr>\n",
              "                        <th id=\"T_4f298370_cb5e_11ea_81f1_0242ac1c0002level0_row0\" class=\"row_heading level0 row0\" >utility_id_ferc1</th>\n",
              "                        <td id=\"T_4f298370_cb5e_11ea_81f1_0242ac1c0002row0_col0\" class=\"data row0 col0\" >1.00</td>\n",
              "                        <td id=\"T_4f298370_cb5e_11ea_81f1_0242ac1c0002row0_col1\" class=\"data row0 col1\" >0.09</td>\n",
              "                        <td id=\"T_4f298370_cb5e_11ea_81f1_0242ac1c0002row0_col2\" class=\"data row0 col2\" >-0.06</td>\n",
              "                        <td id=\"T_4f298370_cb5e_11ea_81f1_0242ac1c0002row0_col3\" class=\"data row0 col3\" >-0.07</td>\n",
              "                        <td id=\"T_4f298370_cb5e_11ea_81f1_0242ac1c0002row0_col4\" class=\"data row0 col4\" >-0.04</td>\n",
              "                        <td id=\"T_4f298370_cb5e_11ea_81f1_0242ac1c0002row0_col5\" class=\"data row0 col5\" >-0.02</td>\n",
              "                        <td id=\"T_4f298370_cb5e_11ea_81f1_0242ac1c0002row0_col6\" class=\"data row0 col6\" >0.01</td>\n",
              "            </tr>\n",
              "            <tr>\n",
              "                        <th id=\"T_4f298370_cb5e_11ea_81f1_0242ac1c0002level0_row1\" class=\"row_heading level0 row1\" >report_year</th>\n",
              "                        <td id=\"T_4f298370_cb5e_11ea_81f1_0242ac1c0002row1_col0\" class=\"data row1 col0\" >0.09</td>\n",
              "                        <td id=\"T_4f298370_cb5e_11ea_81f1_0242ac1c0002row1_col1\" class=\"data row1 col1\" >1.00</td>\n",
              "                        <td id=\"T_4f298370_cb5e_11ea_81f1_0242ac1c0002row1_col2\" class=\"data row1 col2\" >0.01</td>\n",
              "                        <td id=\"T_4f298370_cb5e_11ea_81f1_0242ac1c0002row1_col3\" class=\"data row1 col3\" >-0.11</td>\n",
              "                        <td id=\"T_4f298370_cb5e_11ea_81f1_0242ac1c0002row1_col4\" class=\"data row1 col4\" >0.01</td>\n",
              "                        <td id=\"T_4f298370_cb5e_11ea_81f1_0242ac1c0002row1_col5\" class=\"data row1 col5\" >-0.01</td>\n",
              "                        <td id=\"T_4f298370_cb5e_11ea_81f1_0242ac1c0002row1_col6\" class=\"data row1 col6\" >0.01</td>\n",
              "            </tr>\n",
              "            <tr>\n",
              "                        <th id=\"T_4f298370_cb5e_11ea_81f1_0242ac1c0002level0_row2\" class=\"row_heading level0 row2\" >fuel_qty_burned</th>\n",
              "                        <td id=\"T_4f298370_cb5e_11ea_81f1_0242ac1c0002row2_col0\" class=\"data row2 col0\" >-0.06</td>\n",
              "                        <td id=\"T_4f298370_cb5e_11ea_81f1_0242ac1c0002row2_col1\" class=\"data row2 col1\" >0.01</td>\n",
              "                        <td id=\"T_4f298370_cb5e_11ea_81f1_0242ac1c0002row2_col2\" class=\"data row2 col2\" >1.00</td>\n",
              "                        <td id=\"T_4f298370_cb5e_11ea_81f1_0242ac1c0002row2_col3\" class=\"data row2 col3\" >-0.08</td>\n",
              "                        <td id=\"T_4f298370_cb5e_11ea_81f1_0242ac1c0002row2_col4\" class=\"data row2 col4\" >-0.02</td>\n",
              "                        <td id=\"T_4f298370_cb5e_11ea_81f1_0242ac1c0002row2_col5\" class=\"data row2 col5\" >-0.00</td>\n",
              "                        <td id=\"T_4f298370_cb5e_11ea_81f1_0242ac1c0002row2_col6\" class=\"data row2 col6\" >-0.00</td>\n",
              "            </tr>\n",
              "            <tr>\n",
              "                        <th id=\"T_4f298370_cb5e_11ea_81f1_0242ac1c0002level0_row3\" class=\"row_heading level0 row3\" >fuel_mmbtu_per_unit</th>\n",
              "                        <td id=\"T_4f298370_cb5e_11ea_81f1_0242ac1c0002row3_col0\" class=\"data row3 col0\" >-0.07</td>\n",
              "                        <td id=\"T_4f298370_cb5e_11ea_81f1_0242ac1c0002row3_col1\" class=\"data row3 col1\" >-0.11</td>\n",
              "                        <td id=\"T_4f298370_cb5e_11ea_81f1_0242ac1c0002row3_col2\" class=\"data row3 col2\" >-0.08</td>\n",
              "                        <td id=\"T_4f298370_cb5e_11ea_81f1_0242ac1c0002row3_col3\" class=\"data row3 col3\" >1.00</td>\n",
              "                        <td id=\"T_4f298370_cb5e_11ea_81f1_0242ac1c0002row3_col4\" class=\"data row3 col4\" >-0.01</td>\n",
              "                        <td id=\"T_4f298370_cb5e_11ea_81f1_0242ac1c0002row3_col5\" class=\"data row3 col5\" >-0.01</td>\n",
              "                        <td id=\"T_4f298370_cb5e_11ea_81f1_0242ac1c0002row3_col6\" class=\"data row3 col6\" >-0.01</td>\n",
              "            </tr>\n",
              "            <tr>\n",
              "                        <th id=\"T_4f298370_cb5e_11ea_81f1_0242ac1c0002level0_row4\" class=\"row_heading level0 row4\" >fuel_cost_per_unit_burned</th>\n",
              "                        <td id=\"T_4f298370_cb5e_11ea_81f1_0242ac1c0002row4_col0\" class=\"data row4 col0\" >-0.04</td>\n",
              "                        <td id=\"T_4f298370_cb5e_11ea_81f1_0242ac1c0002row4_col1\" class=\"data row4 col1\" >0.01</td>\n",
              "                        <td id=\"T_4f298370_cb5e_11ea_81f1_0242ac1c0002row4_col2\" class=\"data row4 col2\" >-0.02</td>\n",
              "                        <td id=\"T_4f298370_cb5e_11ea_81f1_0242ac1c0002row4_col3\" class=\"data row4 col3\" >-0.01</td>\n",
              "                        <td id=\"T_4f298370_cb5e_11ea_81f1_0242ac1c0002row4_col4\" class=\"data row4 col4\" >1.00</td>\n",
              "                        <td id=\"T_4f298370_cb5e_11ea_81f1_0242ac1c0002row4_col5\" class=\"data row4 col5\" >0.01</td>\n",
              "                        <td id=\"T_4f298370_cb5e_11ea_81f1_0242ac1c0002row4_col6\" class=\"data row4 col6\" >-0.00</td>\n",
              "            </tr>\n",
              "            <tr>\n",
              "                        <th id=\"T_4f298370_cb5e_11ea_81f1_0242ac1c0002level0_row5\" class=\"row_heading level0 row5\" >fuel_cost_per_unit_delivered</th>\n",
              "                        <td id=\"T_4f298370_cb5e_11ea_81f1_0242ac1c0002row5_col0\" class=\"data row5 col0\" >-0.02</td>\n",
              "                        <td id=\"T_4f298370_cb5e_11ea_81f1_0242ac1c0002row5_col1\" class=\"data row5 col1\" >-0.01</td>\n",
              "                        <td id=\"T_4f298370_cb5e_11ea_81f1_0242ac1c0002row5_col2\" class=\"data row5 col2\" >-0.00</td>\n",
              "                        <td id=\"T_4f298370_cb5e_11ea_81f1_0242ac1c0002row5_col3\" class=\"data row5 col3\" >-0.01</td>\n",
              "                        <td id=\"T_4f298370_cb5e_11ea_81f1_0242ac1c0002row5_col4\" class=\"data row5 col4\" >0.01</td>\n",
              "                        <td id=\"T_4f298370_cb5e_11ea_81f1_0242ac1c0002row5_col5\" class=\"data row5 col5\" >1.00</td>\n",
              "                        <td id=\"T_4f298370_cb5e_11ea_81f1_0242ac1c0002row5_col6\" class=\"data row5 col6\" >-0.00</td>\n",
              "            </tr>\n",
              "            <tr>\n",
              "                        <th id=\"T_4f298370_cb5e_11ea_81f1_0242ac1c0002level0_row6\" class=\"row_heading level0 row6\" >fuel_cost_per_mmbtu</th>\n",
              "                        <td id=\"T_4f298370_cb5e_11ea_81f1_0242ac1c0002row6_col0\" class=\"data row6 col0\" >0.01</td>\n",
              "                        <td id=\"T_4f298370_cb5e_11ea_81f1_0242ac1c0002row6_col1\" class=\"data row6 col1\" >0.01</td>\n",
              "                        <td id=\"T_4f298370_cb5e_11ea_81f1_0242ac1c0002row6_col2\" class=\"data row6 col2\" >-0.00</td>\n",
              "                        <td id=\"T_4f298370_cb5e_11ea_81f1_0242ac1c0002row6_col3\" class=\"data row6 col3\" >-0.01</td>\n",
              "                        <td id=\"T_4f298370_cb5e_11ea_81f1_0242ac1c0002row6_col4\" class=\"data row6 col4\" >-0.00</td>\n",
              "                        <td id=\"T_4f298370_cb5e_11ea_81f1_0242ac1c0002row6_col5\" class=\"data row6 col5\" >-0.00</td>\n",
              "                        <td id=\"T_4f298370_cb5e_11ea_81f1_0242ac1c0002row6_col6\" class=\"data row6 col6\" >1.00</td>\n",
              "            </tr>\n",
              "    </tbody></table>"
            ],
            "text/plain": [
              "<pandas.io.formats.style.Styler at 0x7f640509dfd0>"
            ]
          },
          "metadata": {
            "tags": []
          },
          "execution_count": 65
        }
      ]
    },
    {
      "cell_type": "markdown",
      "metadata": {
        "id": "CE9d2-84xzER",
        "colab_type": "text"
      },
      "source": [
        "fuel_qty_burned and fuel_mmbtu_per_unit have the second and third lowest corellation with fuel_cost_per_unit_burned"
      ]
    },
    {
      "cell_type": "markdown",
      "metadata": {
        "id": "oa5JnbVfyiLW",
        "colab_type": "text"
      },
      "source": [
        "Question 9"
      ]
    },
    {
      "cell_type": "code",
      "metadata": {
        "id": "Dv65hiXWw2ha",
        "colab_type": "code",
        "colab": {
          "base_uri": "https://localhost:8080/",
          "height": 34
        },
        "outputId": "612d2c72-7764-422e-90ec-9ae3bd1636c1"
      },
      "source": [
        "fuel_cost_per_unit_burned_1998 = data[(data['fuel_type_code_pudl'] == 'coal') & (data['report_year'] == 1998)]['fuel_cost_per_unit_burned'].sum() \n",
        "fuel_cost_per_unit_burned_1994 = data[(data['fuel_type_code_pudl'] == 'coal') & (data['report_year'] == 1994)]['fuel_cost_per_unit_burned'].sum()\n",
        "\n",
        "(fuel_cost_per_unit_burned_1998 - fuel_cost_per_unit_burned_1994) * 100 /fuel_cost_per_unit_burned_1994"
      ],
      "execution_count": 73,
      "outputs": [
        {
          "output_type": "execute_result",
          "data": {
            "text/plain": [
              "-20.56765451826053"
            ]
          },
          "metadata": {
            "tags": []
          },
          "execution_count": 73
        }
      ]
    },
    {
      "cell_type": "markdown",
      "metadata": {
        "id": "4Od2fCTb4Fpd",
        "colab_type": "text"
      },
      "source": [
        "Question 10"
      ]
    },
    {
      "cell_type": "code",
      "metadata": {
        "id": "crU280k21l8Y",
        "colab_type": "code",
        "colab": {
          "base_uri": "https://localhost:8080/",
          "height": 68
        },
        "outputId": "8612f1f5-0caa-4dbb-b36d-d46081635beb"
      },
      "source": [
        "data.groupby('report_year', as_index=False)['fuel_cost_per_unit_delivered'].mean().max()"
      ],
      "execution_count": 75,
      "outputs": [
        {
          "output_type": "execute_result",
          "data": {
            "text/plain": [
              "report_year                      2018.000000\n",
              "fuel_cost_per_unit_delivered    11140.197239\n",
              "dtype: float64"
            ]
          },
          "metadata": {
            "tags": []
          },
          "execution_count": 75
        }
      ]
    },
    {
      "cell_type": "code",
      "metadata": {
        "id": "Z54GZCBl5eab",
        "colab_type": "code",
        "colab": {}
      },
      "source": [
        ""
      ],
      "execution_count": null,
      "outputs": []
    }
  ]
}